{
 "cells": [
  {
   "cell_type": "code",
   "execution_count": 1,
   "metadata": {},
   "outputs": [],
   "source": [
    "import numpy as np \n",
    "import pandas as pd\n",
    "from keras.layers import Dense\n",
    "from keras.layers import LSTM,Input\n",
    "from keras.models import Model\n",
    "import keras"
   ]
  },
  {
   "cell_type": "code",
   "execution_count": 5,
   "metadata": {},
   "outputs": [],
   "source": [
    "english_texts=[]\n",
    "russian_texts=[]\n",
    "english_character=[]\n",
    "russian_character=[]\n",
    "with open(\"./rus.txt\", \"r\", encoding=\"utf-8\") as f:\n",
    "    lines = f.read().split(\"\\n\")\n",
    "for line in lines[:30000]:\n",
    "    english_text,russian_text,_=line.split(\"\\t\")\n",
    "    english_texts.append(english_text)\n",
    "    russian_text = \"\\t\" + russian_text + \"\\n\"\n",
    "    russian_texts.append(russian_text)"
   ]
  },
  {
   "cell_type": "code",
   "execution_count": 6,
   "metadata": {},
   "outputs": [],
   "source": [
    "for i in english_texts:\n",
    "    for c in i:\n",
    "        if c not in english_character:\n",
    "            english_character.append(c)\n",
    "            english_character.sort()"
   ]
  },
  {
   "cell_type": "code",
   "execution_count": 7,
   "metadata": {},
   "outputs": [],
   "source": [
    "for j in russian_texts:\n",
    "    for c in j:\n",
    "        if c not in russian_character:\n",
    "            russian_character.append(c)\n",
    "            russian_character.sort()"
   ]
  },
  {
   "cell_type": "code",
   "execution_count": 8,
   "metadata": {},
   "outputs": [],
   "source": [
    "english_d={}\n",
    "for i in range(len(english_character)):\n",
    "    english_d[english_character[i]]=i"
   ]
  },
  {
   "cell_type": "code",
   "execution_count": 9,
   "metadata": {},
   "outputs": [],
   "source": [
    "russian_d={}\n",
    "for i in range(len(russian_character)):\n",
    "    russian_d[russian_character[i]]=i"
   ]
  },
  {
   "cell_type": "code",
   "execution_count": 10,
   "metadata": {},
   "outputs": [],
   "source": [
    "english_encoder_tokens = len(english_character)\n",
    "russian_decoder_tokens = len(russian_character)"
   ]
  },
  {
   "cell_type": "code",
   "execution_count": 11,
   "metadata": {},
   "outputs": [],
   "source": [
    "max_encoder_seq_length=0\n",
    "for i in english_texts:\n",
    "    if len(i)>max_encoder_seq_length:\n",
    "        max_encoder_seq_length=len(i)"
   ]
  },
  {
   "cell_type": "code",
   "execution_count": 12,
   "metadata": {},
   "outputs": [],
   "source": [
    "max_decoder_seq_length=0\n",
    "for i in russian_texts:\n",
    "    if len(i)>max_decoder_seq_length:\n",
    "        max_decoder_seq_length=len(i)"
   ]
  },
  {
   "cell_type": "code",
   "execution_count": 13,
   "metadata": {},
   "outputs": [],
   "source": [
    "encoder_input_data=[]\n",
    "for bb in range(30000):\n",
    "    a=[]\n",
    "    b=[]\n",
    "    c=[]\n",
    "    k=len(english_texts[bb])\n",
    "    m=0\n",
    "    while m<k:\n",
    "        for char in english_texts[bb][m]:\n",
    "                           for i in range(len(english_character)):\n",
    "                                            if english_d[char]==i:\n",
    "                                                a.append(1)\n",
    "                                            else:\n",
    "                                                a.append(0)\n",
    "       \n",
    "        for kp in a:\n",
    "            b.append(kp)\n",
    "        c.append(b)\n",
    "        b=[]\n",
    "        a=[]\n",
    "        m=m+1\n",
    "    while m<max_encoder_seq_length:\n",
    "        for i in range(len(english_character)):\n",
    "            if i==0:\n",
    "                a.append(1)\n",
    "            else:\n",
    "                a.append(0)\n",
    "        for kp in a:\n",
    "            b.append(kp)\n",
    "        c.append(b)\n",
    "        b=[]\n",
    "        a=[]\n",
    "        m=m+1\n",
    "    encoder_input_data.append(c)"
   ]
  },
  {
   "cell_type": "code",
   "execution_count": 14,
   "metadata": {},
   "outputs": [],
   "source": [
    "encoder_input_data=np.array(encoder_input_data)"
   ]
  },
  {
   "cell_type": "code",
   "execution_count": 15,
   "metadata": {},
   "outputs": [],
   "source": [
    "decoder_input_data=[]\n",
    "for bb in range(30000):\n",
    "    a=[]\n",
    "    b=[]\n",
    "    c=[]\n",
    "    k=len(russian_texts[bb])\n",
    "    m=0\n",
    "    while m<k:\n",
    "        for char in russian_texts[bb][m]:\n",
    "            for i in range(len(russian_character)):\n",
    "                if russian_d[char]==i:\n",
    "                    a.append(1)\n",
    "                else:\n",
    "                    a.append(0)\n",
    "       \n",
    "        for kp in a:\n",
    "            b.append(kp)\n",
    "        c.append(b)\n",
    "        b=[]\n",
    "        a=[]\n",
    "        m=m+1\n",
    "    while m<max_decoder_seq_length:\n",
    "        for i in range(len(russian_character)):\n",
    "            if i==0:\n",
    "                a.append(1)\n",
    "            else:\n",
    "                a.append(0)\n",
    "        for kp in a:\n",
    "            b.append(kp)\n",
    "        c.append(b)\n",
    "        b=[]\n",
    "        a=[]\n",
    "        m=m+1\n",
    "    decoder_input_data.append(c)"
   ]
  },
  {
   "cell_type": "code",
   "execution_count": 16,
   "metadata": {},
   "outputs": [],
   "source": [
    "decoder_input_data=np.array(decoder_input_data)"
   ]
  },
  {
   "cell_type": "code",
   "execution_count": 17,
   "metadata": {},
   "outputs": [],
   "source": [
    "decoder_target_data=[]\n",
    "for bb in range(30000):\n",
    "    a=[]\n",
    "    b=[]\n",
    "    c=[]\n",
    "    k=len(russian_texts[bb])\n",
    "    m=1\n",
    "    while m<k:\n",
    "        for char in russian_texts[bb][m]:\n",
    "                           for i in range(len(russian_character)):\n",
    "                                            if russian_d[char]==i:\n",
    "                                                a.append(1)\n",
    "                                            else:\n",
    "                                                a.append(0)\n",
    "       \n",
    "        for kp in a:\n",
    "            b.append(kp)\n",
    "        c.append(b)\n",
    "        b=[]\n",
    "        a=[]\n",
    "        m=m+1\n",
    "    m=m-1\n",
    "    while m<max_decoder_seq_length:\n",
    "        for i in range(len(russian_character)):\n",
    "            if i==0:\n",
    "                a.append(1)\n",
    "            else:\n",
    "                a.append(0)\n",
    "        for kp in a:\n",
    "            b.append(kp)\n",
    "        c.append(b)\n",
    "        b=[]\n",
    "        a=[]\n",
    "        m=m+1\n",
    "    decoder_target_data.append(c)"
   ]
  },
  {
   "cell_type": "code",
   "execution_count": 18,
   "metadata": {},
   "outputs": [],
   "source": [
    "decoder_target_data=np.array(decoder_target_data)"
   ]
  },
  {
   "cell_type": "code",
   "execution_count": 19,
   "metadata": {},
   "outputs": [
    {
     "name": "stderr",
     "output_type": "stream",
     "text": [
      "WARNING:absl:Compiled the loaded model, but the compiled metrics have yet to be built. `model.compile_metrics` will be empty until you train or evaluate the model.\n"
     ]
    }
   ],
   "source": [
    "model = keras.models.load_model(\"engtorussian.h5\")\n",
    "encoder_inputs = model.input[0]  # input_1\n",
    "encoder_outputs_1, state_h_enc_1, state_c_enc_1 = model.layers[2].output \n",
    "encoder_outputs, state_h_enc, state_c_enc = model.layers[4].output \n",
    "encoder_states = [state_h_enc_1, state_c_enc_1,state_h_enc, state_c_enc]\n",
    "encoder_model_1 = keras.Model(encoder_inputs, encoder_states)"
   ]
  },
  {
   "cell_type": "code",
   "execution_count": 20,
   "metadata": {},
   "outputs": [],
   "source": [
    "latent_dim = 256 "
   ]
  },
  {
   "cell_type": "code",
   "execution_count": 21,
   "metadata": {},
   "outputs": [],
   "source": [
    "decoder_inputs = model.input[1]  \n",
    "decoder_state_input_h = keras.Input(shape=(latent_dim,),)\n",
    "decoder_state_input_c = keras.Input(shape=(latent_dim,),)\n",
    "decoder_state_input_h1 = Input(shape=(latent_dim,),)\n",
    "decoder_state_input_c1 = Input(shape=(latent_dim,),)\n",
    "decoder_states_inputs = [decoder_state_input_h, decoder_state_input_c,decoder_state_input_h1,decoder_state_input_c1]\n",
    "decoder_lstm = model.layers[3]\n",
    "dec_o, state_h, state_c = decoder_lstm(\n",
    "    decoder_inputs, initial_state=decoder_states_inputs[:2])\n",
    "decoder_lstm_1=model.layers[5]\n",
    "dec_o_1, state_h1, state_c1 = decoder_lstm_1(\n",
    "    dec_o, initial_state=decoder_states_inputs[-2:])\n",
    "decoder_states = [state_h,state_c,state_h1,state_c1]\n",
    "decoder_dense = model.layers[6]\n",
    "decoder_outputs = decoder_dense(dec_o_1)\n",
    "decoder_model = keras.Model(\n",
    "    [decoder_inputs] + decoder_states_inputs, [decoder_outputs] + decoder_states\n",
    ")"
   ]
  },
  {
   "cell_type": "code",
   "execution_count": 22,
   "metadata": {},
   "outputs": [],
   "source": [
    "reverse_input_char_index ={}\n",
    "for i in range(len(english_character)):\n",
    "    reverse_input_char_index[i]=english_character[i]\n",
    "reverse_target_char_index ={}\n",
    "for i in range(len(russian_character)):\n",
    "    reverse_target_char_index[i]=russian_character[i]"
   ]
  },
  {
   "cell_type": "code",
   "execution_count": 23,
   "metadata": {},
   "outputs": [],
   "source": [
    "def decode_sequence(input_seq):\n",
    "    states_value=encoder_model_1.predict(input_seq)\n",
    "    target_seq = np.zeros((1, 1, len(russian_character)))\n",
    "    target_seq[0, 0, russian_d[\"\\t\"]] = 1.0\n",
    "    flag=0\n",
    "    sent=\"\"\n",
    "    while flag==0:\n",
    "        output_tokens, h, c,h1,c1 = decoder_model.predict([target_seq] + states_value)\n",
    "        sample = np.argmax(output_tokens[0, -1, :])\n",
    "        sampled_char = reverse_target_char_index[sample]\n",
    "        sent+=sampled_char\n",
    "        if sampled_char == \"\\n\" or len(sent) > max_decoder_seq_length:\n",
    "            flag=1\n",
    "        target_seq = np.zeros((1, 1, len(russian_character)))\n",
    "        target_seq[0, 0,sample] = 1.0\n",
    "        states_value = [h, c,h1,c1]\n",
    "    return sent"
   ]
  },
  {
   "cell_type": "code",
   "execution_count": 113,
   "metadata": {},
   "outputs": [],
   "source": [
    "english='He will not go.'"
   ]
  },
  {
   "cell_type": "code",
   "execution_count": 114,
   "metadata": {},
   "outputs": [],
   "source": [
    "k=len(english)\n",
    "m=0\n",
    "a=[]\n",
    "b=[]\n",
    "c=[]\n",
    "inpu=[]\n",
    "while m<k:\n",
    "    for char in english[m]:\n",
    "        for i in range(len(english_character)):\n",
    "            if english_d[char]==i:\n",
    "                a.append(1)\n",
    "            else:\n",
    "                a.append(0)\n",
    "    for kp in a:\n",
    "        b.append(kp)\n",
    "    c.append(b)\n",
    "    b=[]\n",
    "    a=[]\n",
    "    m=m+1\n",
    "while m<max_encoder_seq_length:\n",
    "        for i in range(len(english_character)):\n",
    "            if i==0:\n",
    "                a.append(1)\n",
    "            else:\n",
    "                a.append(0)\n",
    "        for kp in a:\n",
    "            b.append(kp)\n",
    "        c.append(b)\n",
    "        b=[]\n",
    "        a=[]\n",
    "        m=m+1\n",
    "inpu.append(c)"
   ]
  },
  {
   "cell_type": "code",
   "execution_count": 115,
   "metadata": {},
   "outputs": [],
   "source": [
    "inpu=np.array(inpu)"
   ]
  },
  {
   "cell_type": "code",
   "execution_count": 116,
   "metadata": {},
   "outputs": [
    {
     "data": {
      "text/plain": [
       "array([[[0, 0, 0, ..., 0, 0, 0],\n",
       "        [0, 0, 0, ..., 0, 0, 0],\n",
       "        [1, 0, 0, ..., 0, 0, 0],\n",
       "        ...,\n",
       "        [0, 0, 0, ..., 0, 0, 0],\n",
       "        [1, 0, 0, ..., 0, 0, 0],\n",
       "        [1, 0, 0, ..., 0, 0, 0]]])"
      ]
     },
     "execution_count": 116,
     "metadata": {},
     "output_type": "execute_result"
    }
   ],
   "source": [
    "inpu"
   ]
  },
  {
   "cell_type": "code",
   "execution_count": 117,
   "metadata": {},
   "outputs": [
    {
     "name": "stdout",
     "output_type": "stream",
     "text": [
      "\u001b[1m1/1\u001b[0m \u001b[32m━━━━━━━━━━━━━━━━━━━━\u001b[0m\u001b[37m\u001b[0m \u001b[1m0s\u001b[0m 19ms/step\n"
     ]
    },
    {
     "name": "stdout",
     "output_type": "stream",
     "text": [
      "\u001b[1m1/1\u001b[0m \u001b[32m━━━━━━━━━━━━━━━━━━━━\u001b[0m\u001b[37m\u001b[0m \u001b[1m0s\u001b[0m 30ms/step\n",
      "\u001b[1m1/1\u001b[0m \u001b[32m━━━━━━━━━━━━━━━━━━━━\u001b[0m\u001b[37m\u001b[0m \u001b[1m0s\u001b[0m 19ms/step\n",
      "\u001b[1m1/1\u001b[0m \u001b[32m━━━━━━━━━━━━━━━━━━━━\u001b[0m\u001b[37m\u001b[0m \u001b[1m0s\u001b[0m 20ms/step\n",
      "\u001b[1m1/1\u001b[0m \u001b[32m━━━━━━━━━━━━━━━━━━━━\u001b[0m\u001b[37m\u001b[0m \u001b[1m0s\u001b[0m 21ms/step\n",
      "\u001b[1m1/1\u001b[0m \u001b[32m━━━━━━━━━━━━━━━━━━━━\u001b[0m\u001b[37m\u001b[0m \u001b[1m0s\u001b[0m 20ms/step\n",
      "\u001b[1m1/1\u001b[0m \u001b[32m━━━━━━━━━━━━━━━━━━━━\u001b[0m\u001b[37m\u001b[0m \u001b[1m0s\u001b[0m 19ms/step\n",
      "\u001b[1m1/1\u001b[0m \u001b[32m━━━━━━━━━━━━━━━━━━━━\u001b[0m\u001b[37m\u001b[0m \u001b[1m0s\u001b[0m 18ms/step\n",
      "\u001b[1m1/1\u001b[0m \u001b[32m━━━━━━━━━━━━━━━━━━━━\u001b[0m\u001b[37m\u001b[0m \u001b[1m0s\u001b[0m 19ms/step\n",
      "\u001b[1m1/1\u001b[0m \u001b[32m━━━━━━━━━━━━━━━━━━━━\u001b[0m\u001b[37m\u001b[0m \u001b[1m0s\u001b[0m 18ms/step\n",
      "\u001b[1m1/1\u001b[0m \u001b[32m━━━━━━━━━━━━━━━━━━━━\u001b[0m\u001b[37m\u001b[0m \u001b[1m0s\u001b[0m 19ms/step\n",
      "\u001b[1m1/1\u001b[0m \u001b[32m━━━━━━━━━━━━━━━━━━━━\u001b[0m\u001b[37m\u001b[0m \u001b[1m0s\u001b[0m 19ms/step\n",
      "\u001b[1m1/1\u001b[0m \u001b[32m━━━━━━━━━━━━━━━━━━━━\u001b[0m\u001b[37m\u001b[0m \u001b[1m0s\u001b[0m 18ms/step\n",
      "\u001b[1m1/1\u001b[0m \u001b[32m━━━━━━━━━━━━━━━━━━━━\u001b[0m\u001b[37m\u001b[0m \u001b[1m0s\u001b[0m 17ms/step\n",
      "\u001b[1m1/1\u001b[0m \u001b[32m━━━━━━━━━━━━━━━━━━━━\u001b[0m\u001b[37m\u001b[0m \u001b[1m0s\u001b[0m 19ms/step\n"
     ]
    }
   ],
   "source": [
    "d=decode_sequence(inpu)"
   ]
  },
  {
   "cell_type": "code",
   "execution_count": 118,
   "metadata": {},
   "outputs": [
    {
     "data": {
      "text/plain": [
       "'Он не поедет.\\n'"
      ]
     },
     "execution_count": 118,
     "metadata": {},
     "output_type": "execute_result"
    }
   ],
   "source": [
    "d"
   ]
  },
  {
   "cell_type": "code",
   "execution_count": null,
   "metadata": {},
   "outputs": [],
   "source": []
  }
 ],
 "metadata": {
  "kernelspec": {
   "display_name": "Python 3",
   "language": "python",
   "name": "python3"
  },
  "language_info": {
   "codemirror_mode": {
    "name": "ipython",
    "version": 3
   },
   "file_extension": ".py",
   "mimetype": "text/x-python",
   "name": "python",
   "nbconvert_exporter": "python",
   "pygments_lexer": "ipython3",
   "version": "3.11.4"
  }
 },
 "nbformat": 4,
 "nbformat_minor": 2
}
